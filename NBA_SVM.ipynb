{
  "nbformat": 4,
  "nbformat_minor": 0,
  "metadata": {
    "colab": {
      "name": "NBA_SVM.ipynb",
      "provenance": [],
      "collapsed_sections": []
    },
    "kernelspec": {
      "display_name": "Python 3",
      "name": "python3"
    },
    "language_info": {
      "name": "python"
    }
  },
  "cells": [
    {
      "cell_type": "code",
      "metadata": {
        "id": "SbsQ_bfaavQQ"
      },
      "source": [
        "import pandas as pd\n",
        "import numpy as np\n",
        "from random import randint\n",
        "import os.path\n"
      ],
      "execution_count": 7,
      "outputs": []
    },
    {
      "cell_type": "code",
      "metadata": {
        "id": "wLOUYW3fpS4f"
      },
      "source": [
        "import torch\n",
        "import torch.nn as nn\n",
        "import torch.nn.functional as F\n",
        "import torch.optim as optim"
      ],
      "execution_count": 8,
      "outputs": []
    },
    {
      "cell_type": "code",
      "metadata": {
        "colab": {
          "base_uri": "https://localhost:8080/"
        },
        "id": "cGBJ5n4I-ab0",
        "outputId": "ed5b54ce-6bc0-4787-c0f6-9b74200648e7"
      },
      "source": [
        "torch.arange(25468).chunk(11, dim=0)"
      ],
      "execution_count": 9,
      "outputs": [
        {
          "output_type": "execute_result",
          "data": {
            "text/plain": [
              "(tensor([   0,    1,    2,  ..., 2313, 2314, 2315]),\n",
              " tensor([2316, 2317, 2318,  ..., 4629, 4630, 4631]),\n",
              " tensor([4632, 4633, 4634,  ..., 6945, 6946, 6947]),\n",
              " tensor([6948, 6949, 6950,  ..., 9261, 9262, 9263]),\n",
              " tensor([ 9264,  9265,  9266,  ..., 11577, 11578, 11579]),\n",
              " tensor([11580, 11581, 11582,  ..., 13893, 13894, 13895]),\n",
              " tensor([13896, 13897, 13898,  ..., 16209, 16210, 16211]),\n",
              " tensor([16212, 16213, 16214,  ..., 18525, 18526, 18527]),\n",
              " tensor([18528, 18529, 18530,  ..., 20841, 20842, 20843]),\n",
              " tensor([20844, 20845, 20846,  ..., 23157, 23158, 23159]),\n",
              " tensor([23160, 23161, 23162,  ..., 25465, 25466, 25467]))"
            ]
          },
          "metadata": {
            "tags": []
          },
          "execution_count": 9
        }
      ]
    },
    {
      "cell_type": "code",
      "metadata": {
        "id": "bBkug1tIrQSv"
      },
      "source": [
        "from sklearn import svm\n",
        "from imblearn.over_sampling import BorderlineSMOTE"
      ],
      "execution_count": 10,
      "outputs": []
    },
    {
      "cell_type": "code",
      "metadata": {
        "id": "CSri9lBtIBWt"
      },
      "source": [
        "# from google.colab import drive\n",
        "# drive.mount('/content/drive')"
      ],
      "execution_count": 11,
      "outputs": []
    },
    {
      "cell_type": "code",
      "metadata": {
        "id": "mx8bDBFve7GR"
      },
      "source": [
        "df_data = pd.read_csv('https://raw.githubusercontent.com/JamesBond0014/NBA_ALLSTAR_Prediction/main/ASG_data.csv')\n",
        "\n",
        "names_and_teams = df_data[['PLAYER', 'TEAM']]\n",
        "for df in [df_data]:\n",
        "\n",
        "    # the % of team's games the player played in\n",
        "    # sometimes because of scheduling/trades, a player's indiviual GP may exceed their current team's, so we impose a ceiling of 1\n",
        "    df['Play Pct.'] = (df['GP'] / df['Team GP']).map(lambda pct : min(pct, 1))\n",
        "\n",
        "#     # nomalized via league average pace for that year\n",
        "    for col in ['PTS', 'REB', 'AST', 'STL', 'BLK', 'TOV', '3PM']:\n",
        "        df['Adjusted ' + col] = df[col] / df['Avg. Pace']\n",
        "\n",
        "train_data, test_data, test_years = [],[], [2020]\n",
        "# for i in range(1):\n",
        "#     test_years.append(randint(1996, 2020))\n",
        "\n",
        "for index, row in df_data.iterrows():\n",
        "    if (row['Year'] in test_years):\n",
        "        test_data.append(row)\n",
        "    else:\n",
        "        train_data.append(row)"
      ],
      "execution_count": 12,
      "outputs": []
    },
    {
      "cell_type": "code",
      "metadata": {
        "id": "8amXsRg1pLcP"
      },
      "source": [
        "features_full = [\n",
        "    'Adjusted PTS',\n",
        "    'Adjusted REB',\n",
        "    'Adjusted AST',\n",
        "    'Adjusted STL',\n",
        "    'Adjusted BLK',\n",
        "    'Adjusted TOV',\n",
        "    'Adjusted 3PM',\n",
        "    'DEFWS',\n",
        "    'TS%',\n",
        "    'USG%',\n",
        "    'PIE',\n",
        "    'Play Pct.',\n",
        "    'Team Conference Rank',\n",
        "    'Prior ASG Appearances',\n",
        "    'AS Last Year?'\n",
        "]"
      ],
      "execution_count": 13,
      "outputs": []
    },
    {
      "cell_type": "code",
      "metadata": {
        "id": "Hk_6X5uTxPNP"
      },
      "source": [
        "train_df = pd.DataFrame(train_data)\n"
      ],
      "execution_count": 14,
      "outputs": []
    },
    {
      "cell_type": "code",
      "metadata": {
        "colab": {
          "base_uri": "https://localhost:8080/"
        },
        "id": "H6iLd-cpiHWR",
        "outputId": "a973cb65-7a3f-44d2-d885-72654b9df710"
      },
      "source": [
        "train_df = pd.DataFrame(train_data)\n",
        "train_targets = np.array(pd.DataFrame(train_df['Selected?'])).reshape(1,-1)[0]\n",
        "\n",
        "train_df = train_df.drop(columns=['Selected?'])\n",
        "train_df_filtered = train_df[features_full]\n",
        "\n",
        "train_df_filtered, train_targets = BorderlineSMOTE(random_state=0).fit_sample(train_df_filtered, train_targets)\n",
        "\n",
        "test_df = pd.DataFrame(test_data)\n",
        "test_targets = np.array(pd.DataFrame(test_df['Selected?'])).reshape(1,-1)[0]\n",
        "test_df = test_df.drop(columns=['Selected?'])\n",
        "test_df_filtered = test_df[features_full]"
      ],
      "execution_count": 15,
      "outputs": [
        {
          "output_type": "stream",
          "text": [
            "/usr/local/lib/python3.7/dist-packages/sklearn/utils/deprecation.py:87: FutureWarning: Function safe_indexing is deprecated; safe_indexing is deprecated in version 0.22 and will be removed in version 0.24.\n",
            "  warnings.warn(msg, category=FutureWarning)\n",
            "/usr/local/lib/python3.7/dist-packages/sklearn/utils/deprecation.py:87: FutureWarning: Function safe_indexing is deprecated; safe_indexing is deprecated in version 0.22 and will be removed in version 0.24.\n",
            "  warnings.warn(msg, category=FutureWarning)\n",
            "/usr/local/lib/python3.7/dist-packages/sklearn/utils/deprecation.py:87: FutureWarning: Function safe_indexing is deprecated; safe_indexing is deprecated in version 0.22 and will be removed in version 0.24.\n",
            "  warnings.warn(msg, category=FutureWarning)\n",
            "/usr/local/lib/python3.7/dist-packages/sklearn/utils/deprecation.py:87: FutureWarning: Function safe_indexing is deprecated; safe_indexing is deprecated in version 0.22 and will be removed in version 0.24.\n",
            "  warnings.warn(msg, category=FutureWarning)\n",
            "/usr/local/lib/python3.7/dist-packages/sklearn/utils/deprecation.py:87: FutureWarning: Function safe_indexing is deprecated; safe_indexing is deprecated in version 0.22 and will be removed in version 0.24.\n",
            "  warnings.warn(msg, category=FutureWarning)\n"
          ],
          "name": "stderr"
        }
      ]
    },
    {
      "cell_type": "code",
      "metadata": {
        "id": "k11g1n9ruste"
      },
      "source": [
        ""
      ],
      "execution_count": 15,
      "outputs": []
    },
    {
      "cell_type": "code",
      "metadata": {
        "colab": {
          "base_uri": "https://localhost:8080/"
        },
        "id": "Qg9TxGu1sIbB",
        "outputId": "44b54ef9-7800-4035-8c92-c34d17ea2ad8"
      },
      "source": [
        "classifier = svm.SVC()\n",
        "classifier.fit(train_df_filtered, train_targets)"
      ],
      "execution_count": 16,
      "outputs": [
        {
          "output_type": "execute_result",
          "data": {
            "text/plain": [
              "SVC(C=1.0, break_ties=False, cache_size=200, class_weight=None, coef0=0.0,\n",
              "    decision_function_shape='ovr', degree=3, gamma='scale', kernel='rbf',\n",
              "    max_iter=-1, probability=False, random_state=None, shrinking=True,\n",
              "    tol=0.001, verbose=False)"
            ]
          },
          "metadata": {
            "tags": []
          },
          "execution_count": 16
        }
      ]
    },
    {
      "cell_type": "code",
      "metadata": {
        "id": "ZeczyLaAsDrG"
      },
      "source": [
        "predictions = classifier.predict(test_df_filtered)"
      ],
      "execution_count": 17,
      "outputs": []
    },
    {
      "cell_type": "code",
      "metadata": {
        "colab": {
          "base_uri": "https://localhost:8080/"
        },
        "id": "3aol_gvGrP7a",
        "outputId": "09cafad4-b71b-4f5d-f4b2-54fe4c406136"
      },
      "source": [
        "predictions"
      ],
      "execution_count": 18,
      "outputs": [
        {
          "output_type": "execute_result",
          "data": {
            "text/plain": [
              "array([2, 2, 2, 2, 2, 1, 1, 2, 2, 1, 2, 2, 2, 2, 1, 2, 2, 2, 2, 2, 2, 1,\n",
              "       1, 1, 1, 1, 1, 1, 1, 1, 1, 2, 1, 0, 1, 2, 1, 1, 1, 1, 0, 1, 0, 1,\n",
              "       2, 0, 0, 2, 0, 0, 2, 0, 1, 0, 0, 0, 0, 1, 0, 0, 0, 0, 1, 0, 0, 0,\n",
              "       1, 1, 0, 0, 2, 0, 0, 0, 0, 0, 1, 1, 0, 0, 0, 0, 0, 0, 1, 0, 1, 0,\n",
              "       0, 0, 2, 0, 1, 1, 0, 0, 0, 0, 0, 0, 1, 0, 0, 0, 0, 0, 0, 0, 0, 0,\n",
              "       0, 0, 0, 0, 0, 0, 0, 1, 0, 0, 1, 0, 1, 0, 0, 1, 0, 0, 0, 0, 0, 0,\n",
              "       0, 0, 0, 0, 0, 0, 0, 0, 0, 0, 0, 0, 0, 0, 0, 0, 0, 0, 0, 0, 0, 0,\n",
              "       1, 0, 0, 0, 1, 0, 0, 0, 0, 0, 0, 0, 1, 0, 0, 0, 0, 0, 0, 0, 0, 0,\n",
              "       0, 0, 0, 0, 0, 0, 0, 0, 0, 0, 0, 0, 0, 0, 0, 0, 0, 0, 0, 0, 0, 1,\n",
              "       0, 0, 0, 0, 0, 0, 0, 0, 0, 0, 0, 0, 0, 0, 0, 0, 0, 0, 0, 0, 0, 0,\n",
              "       0, 0, 0, 0, 0, 0, 0, 0, 0, 0, 0, 0, 0, 0, 0, 0, 0, 0, 0, 0, 0, 0,\n",
              "       0, 0, 0, 0, 0, 0, 0, 0, 0, 0, 0, 0, 0, 0, 0, 0, 0, 0, 0, 0, 0, 0,\n",
              "       0, 0, 0, 0, 0, 0, 1, 0, 0, 0, 0, 0, 0, 0, 0, 0, 0, 0, 0, 0, 0, 0,\n",
              "       0, 0, 0, 0, 0, 0, 0, 0, 0, 0, 0, 0, 0, 0, 0, 0, 0, 0, 0, 0, 0, 0,\n",
              "       0, 0, 0, 0, 0, 0, 0, 0, 0, 0, 0, 0, 0, 0, 0, 0, 0, 0, 0, 0, 0, 0,\n",
              "       0, 0, 0, 0, 0, 0, 0, 0, 0, 0, 0, 0, 0, 0, 0, 0, 0, 0, 0, 0, 2, 0,\n",
              "       0, 0, 0, 0, 0, 0, 0, 0, 2, 0, 0, 0, 0, 0, 0, 0, 0, 0, 0, 0, 0, 1,\n",
              "       0, 1, 0, 0, 0, 0, 1, 0, 0, 0, 0, 0, 0, 0, 0, 0, 0, 0, 0, 1, 0, 0,\n",
              "       0, 0, 0, 0, 0, 0, 0, 0, 0, 0, 0, 0, 0, 0, 0, 0, 2, 2, 0, 0, 0, 0,\n",
              "       0, 0, 0, 0, 0, 0, 0, 0, 0, 0, 0, 0, 0, 0, 0, 0, 0, 0, 0, 0, 2, 0,\n",
              "       0, 0, 0, 0, 0, 0, 0, 0, 0, 0, 0, 0, 0, 0, 0, 0, 0, 0, 0, 0, 0, 0,\n",
              "       0, 0, 0, 0, 0, 0])"
            ]
          },
          "metadata": {
            "tags": []
          },
          "execution_count": 18
        }
      ]
    },
    {
      "cell_type": "code",
      "metadata": {
        "colab": {
          "base_uri": "https://localhost:8080/"
        },
        "id": "2bljrgNdrJxZ",
        "outputId": "428d871f-cb60-4348-9c88-eaf3ef332f88"
      },
      "source": [
        "class_pred = predictions\n",
        "class_target = test_targets\n",
        "\n",
        "num_cor = len([True for i in range(0, len(class_target)) if class_pred[i] == class_target[i]])\n",
        "tp = len([True for i in range(0, len(class_target)) if class_pred[i] != 0 and class_pred[i] == class_target[i]])\n",
        "fn = len([True for i in range(0, len(class_target)) if class_pred[i] == 0 and class_pred[i] != class_target[i]])\n",
        "p = len([True for i in range(0, len(class_target)) if class_pred[i] != 0])\n",
        "# n = len(class_pred) - p\n",
        "\n",
        "acc = num_cor/len(class_target)\n",
        "prec = tp / p\n",
        "rec = tp / (fn+p)\n",
        "f1_score = 2*prec*rec / (prec+rec)\n",
        "# min_loss = min(losses)\n",
        "\n",
        "\n",
        "\n",
        "\n",
        "print(\"Accuracy: {}\".format(acc))\n",
        "print(\"Precision: {}\".format(prec))\n",
        "print(\"Recall: {}\".format(rec))\n",
        "print(\"F1_score: {}\".format(f1_score))\n",
        "# print(\"Min loss: {}\".format(min_loss))"
      ],
      "execution_count": 20,
      "outputs": [
        {
          "output_type": "stream",
          "text": [
            "Accuracy: 0.8803418803418803\n",
            "Precision: 0.2631578947368421\n",
            "Recall: 0.2631578947368421\n",
            "F1_score: 0.2631578947368421\n"
          ],
          "name": "stdout"
        }
      ]
    },
    {
      "cell_type": "code",
      "metadata": {
        "id": "pEEfaHnytCLI"
      },
      "source": [
        "count = 0\n",
        "acc = 0\n",
        "mask = test_targets != 0\n",
        "for i in range(len(predictions)):\n",
        "    loss = abs(predictions[i]-test_targets[i])\n",
        "    if (mask[i] == True):\n",
        "        if loss == 0:\n",
        "            acc+=1\n",
        "        if loss == 1 and predictions[i]+test_targets[i] ==3:\n",
        "            acc+=0.5\n",
        "        count +=1\n",
        "\n",
        "\n",
        "\n",
        "acc/count"
      ],
      "execution_count": null,
      "outputs": []
    }
  ]
}